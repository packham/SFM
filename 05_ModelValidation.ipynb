{
 "cells": [
  {
   "cell_type": "markdown",
   "metadata": {
    "hideCode": false,
    "hidePrompt": false,
    "slideshow": {
     "slide_type": "slide"
    }
   },
   "source": [
    "<img src=\"pics/HWR_Logo_RGB.jpg\" width=500px>\n",
    "<br>\n",
    "<!--    <p style=\"color:#0E1E5E\">-->\n",
    "    <p style=\"color:#0B4C7B\">\n",
    "    <b>\n",
    "        <font size=\"6\">Statistics of Financial Markets</font>\n",
    "        <br><br>\n",
    "        <font size=\"8\">Introduction to Machine Learning in Finance</font>\n",
    "    </b>\n",
    "<br><br>\n",
    "<b>\n",
    "    <font size=\"5\"> \n",
    "        Prof. Dr. Natalie Packham <br><br>\n",
    "        20 January 2025\n",
    "    </font>\n",
    "</b>\n",
    "</p>"
   ]
  },
  {
   "cell_type": "markdown",
   "metadata": {
    "hideCode": false,
    "hidePrompt": false,
    "slideshow": {
     "slide_type": "slide"
    }
   },
   "source": [
    "# Model validation and measures of fit"
   ]
  },
  {
   "cell_type": "markdown",
   "metadata": {},
   "source": [
    "<center>\n",
    "<img src=\"pics/traditional_v_ML.png\" width=600px>\n",
    "</center>"
   ]
  },
  {
   "cell_type": "markdown",
   "metadata": {
    "slideshow": {
     "slide_type": "subslide"
    }
   },
   "source": [
    "### Training and test MSE"
   ]
  },
  {
   "cell_type": "markdown",
   "metadata": {
    "slideshow": {
     "slide_type": "-"
    }
   },
   "source": [
    "<center>\n",
    "<img src=\"pics/JamesEtAl_2.9-crop.png\" width=800px>\n",
    "<div align=\"right\" style=\"font-size:14px\">Source: James et al.: An Introduction to Statistical Learning. Springer, 2013.</div>\n",
    "</center>"
   ]
  },
  {
   "cell_type": "markdown",
   "metadata": {
    "slideshow": {
     "slide_type": "subslide"
    }
   },
   "source": [
    "Left:\n",
    "* __Test data__, simulated from $f$ (black smooth line) are shown as black dots.\n",
    "* Estimates of $f$: \n",
    "  - linear regression line (orange)\n",
    "  - smoothing spline I (blue)\n",
    "  - smoothing spline II (green)\n",
    "  \n",
    "Right:\n",
    "* Training MSE (grey)\n",
    "* Test MSE (red)\n",
    "* Flexibility denotes the complexity of the models (e.g. number of parameters)"
   ]
  },
  {
   "cell_type": "markdown",
   "metadata": {
    "slideshow": {
     "slide_type": "subslide"
    }
   },
   "source": [
    "### Training and test MSE\n",
    "\n",
    "* The green smoothing spline will have the smallest MSE on the training data set. \n",
    "* It does not perform well, however, when __extrapolating__ to the test data set. \n",
    "* This effect is called __overfitting__. \n",
    "* __Overfitting__ refers to choosing a model that fails to capture the _general_ effects due to a too many _degrees of freedom_.\n",
    "* In other words, a less flexible model performs better on the test data than a more flexible model.\n",
    "* A second example is shown on the next slide."
   ]
  },
  {
   "cell_type": "markdown",
   "metadata": {
    "slideshow": {
     "slide_type": "subslide"
    }
   },
   "source": [
    "<center>\n",
    "<img src=\"pics/JamesEtAl_2.10-crop.png\" width=800px>\n",
    "<div align=\"right\" style=\"font-size:14px\">Source: James et al.: An Introduction to Statistical Learning. Springer, 2013.</div>\n",
    "</center>"
   ]
  }
 ],
 "metadata": {
  "celltoolbar": "Slideshow",
  "hide_code_all_hidden": true,
  "kernelspec": {
   "display_name": "Python 3 (ipykernel)",
   "language": "python",
   "name": "python3"
  },
  "language_info": {
   "codemirror_mode": {
    "name": "ipython",
    "version": 3
   },
   "file_extension": ".py",
   "mimetype": "text/x-python",
   "name": "python",
   "nbconvert_exporter": "python",
   "pygments_lexer": "ipython3",
   "version": "3.11.4"
  },
  "latex_metadata": {
   "author": "Prof.\\ Dr.\\ Natalie Packham\\\\ DVFA \\\\ Chartered Financial Data Scientist\\\\ Summer Term 2020",
   "bib": "notebook.bib",
   "title": "Financial Time Series"
  },
  "livereveal": {
   "slideNumber": "c"
  },
  "toc": {
   "base_numbering": "5",
   "nav_menu": {},
   "number_sections": true,
   "sideBar": true,
   "skip_h1_title": false,
   "title_cell": "Table of Contents",
   "title_sidebar": "Contents",
   "toc_cell": false,
   "toc_position": {
    "height": "calc(100% - 180px)",
    "left": "10px",
    "top": "150px",
    "width": "287.997px"
   },
   "toc_section_display": true,
   "toc_window_display": false
  }
 },
 "nbformat": 4,
 "nbformat_minor": 4
}
